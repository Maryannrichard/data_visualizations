{
  "cells": [
    {
      "cell_type": "markdown",
      "metadata": {
        "id": "view-in-github",
        "colab_type": "text"
      },
      "source": [
        "<a href=\"https://colab.research.google.com/github/Maryannrichard/data_visualizations/blob/main/Copy_of_09_Objects_and_Data_Structures_Assessment_Test.ipynb\" target=\"_parent\"><img src=\"https://colab.research.google.com/assets/colab-badge.svg\" alt=\"Open In Colab\"/></a>"
      ]
    },
    {
      "cell_type": "markdown",
      "source": [],
      "metadata": {
        "id": "Q63wJ_JdBKKh"
      }
    },
    {
      "cell_type": "markdown",
      "source": [
        "# New section"
      ],
      "metadata": {
        "id": "6Xa7bmVmBRvg"
      }
    },
    {
      "cell_type": "code",
      "source": [],
      "metadata": {
        "id": "OxmruJMYBJTq"
      },
      "execution_count": null,
      "outputs": []
    },
    {
      "cell_type": "markdown",
      "source": [],
      "metadata": {
        "id": "k_7R7ATNBIcr"
      }
    },
    {
      "cell_type": "markdown",
      "metadata": {
        "id": "iO0aiptlybJM"
      },
      "source": [
        "# Objects and Data Structures Assessment Test"
      ]
    },
    {
      "cell_type": "markdown",
      "metadata": {
        "collapsed": true,
        "id": "sPl2J_FNybJh"
      },
      "source": [
        "## Test your knowledge. \n",
        "\n",
        "** Answer the following questions **"
      ]
    },
    {
      "cell_type": "markdown",
      "metadata": {
        "collapsed": true,
        "id": "CmnB9mK5ybJj"
      },
      "source": [
        "Write a brief description of all the following Object Types and Data Structures we've learned about: "
      ]
    },
    {
      "cell_type": "markdown",
      "metadata": {
        "id": "RLqEftW_ybJl"
      },
      "source": [
        "Numbers: they are intergers(whole numbers) or floaters(decimal place numbers\n",
        "\n",
        "Strings: they are data written in text form\n",
        "\n",
        "Lists: they are structured data that are ordered\n",
        "\n",
        "Tuples: they are structured data that are not ordered\n",
        "\n",
        "Dictionaries: they are data that comes in pairs having a key and value\n"
      ]
    },
    {
      "cell_type": "markdown",
      "metadata": {
        "id": "y-DGXbnaybJs"
      },
      "source": [
        "Answer these 3 questions without typing code. Then type code to check your answer.\n",
        "\n",
        "    What is the value of the expression 10 * (66 - 32) = 340\n",
        "    \n",
        "    What is the value of the expression 4 * 66 - 32 = 136\n",
        "    \n",
        "    What is the value of the expression 4 + 66 * 5 = 350"
      ]
    },
    {
      "cell_type": "code",
      "source": [
        "answer3 = (4+66) * 5\n",
        "print(answer3)"
      ],
      "metadata": {
        "id": "wDKSk3JXHbaJ",
        "outputId": "d0750bfa-a14a-4993-e097-581a2d1ed048",
        "colab": {
          "base_uri": "https://localhost:8080/"
        }
      },
      "execution_count": null,
      "outputs": [
        {
          "output_type": "stream",
          "name": "stdout",
          "text": [
            "350\n"
          ]
        }
      ]
    },
    {
      "cell_type": "markdown",
      "source": [],
      "metadata": {
        "id": "Mlnw9ZlMGnI0"
      }
    },
    {
      "cell_type": "code",
      "source": [
        "answer2 = 4 * (66-32)\n",
        "print(answer2)"
      ],
      "metadata": {
        "id": "Np64YtfmHLNk",
        "outputId": "ee0aa134-db48-48cc-b407-53f6d100cfb9",
        "colab": {
          "base_uri": "https://localhost:8080/"
        }
      },
      "execution_count": null,
      "outputs": [
        {
          "output_type": "stream",
          "name": "stdout",
          "text": [
            "136\n"
          ]
        }
      ]
    },
    {
      "cell_type": "code",
      "source": [
        "#type code here\n",
        "\n",
        "answer= 10*(66-32)\n",
        "answer\n"
      ],
      "metadata": {
        "id": "9nqUxwAr0BOm",
        "outputId": "01883b34-7222-4efd-8fad-379d94fa7abe",
        "colab": {
          "base_uri": "https://localhost:8080/"
        }
      },
      "execution_count": null,
      "outputs": [
        {
          "output_type": "execute_result",
          "data": {
            "text/plain": [
              "340"
            ]
          },
          "metadata": {},
          "execution_count": 2
        }
      ]
    },
    {
      "cell_type": "code",
      "source": [
        "answer4 = 3+1.5+4\n",
        "answer4\n",
        "type(answer4)"
      ],
      "metadata": {
        "id": "Gt5YtKEHHqF4",
        "outputId": "0960fd09-61af-4590-dc27-b0a3d4a9b12d",
        "colab": {
          "base_uri": "https://localhost:8080/"
        }
      },
      "execution_count": null,
      "outputs": [
        {
          "output_type": "execute_result",
          "data": {
            "text/plain": [
              "float"
            ]
          },
          "metadata": {},
          "execution_count": 5
        }
      ]
    },
    {
      "cell_type": "markdown",
      "metadata": {
        "id": "cs2BDhyMybJ3"
      },
      "source": [
        "\n",
        "\n",
        "```\n",
        "# This is formatted as code\n",
        "```\n",
        "\n",
        "What is the *type* of the result of the expression 3 + 1.5 + 4?<br><br>"
      ]
    },
    {
      "cell_type": "code",
      "source": [
        "answer5= 3+1.5+4\n",
        "type(answer5)"
      ],
      "metadata": {
        "id": "tYGlD3JN0MCi",
        "outputId": "c7cae2e7-68b3-49ef-c8f3-8588a35284e2",
        "colab": {
          "base_uri": "https://localhost:8080/"
        }
      },
      "execution_count": null,
      "outputs": [
        {
          "output_type": "execute_result",
          "data": {
            "text/plain": [
              "float"
            ]
          },
          "metadata": {},
          "execution_count": 6
        }
      ]
    },
    {
      "cell_type": "code",
      "source": [],
      "metadata": {
        "id": "ydcCY0P1G_6P"
      },
      "execution_count": null,
      "outputs": []
    },
    {
      "cell_type": "markdown",
      "metadata": {
        "id": "a1T4o9jsybJ7"
      },
      "source": [
        "What would you use to find a number’s square root, as well as its square? "
      ]
    },
    {
      "cell_type": "code",
      "source": [
        "#find the square of 67\n",
        "\n",
        "square= 67 ** 2\n",
        "print(square)"
      ],
      "metadata": {
        "id": "2CApeau4z8IJ",
        "outputId": "5ac60b91-df53-42dc-aa5e-0c171edd0633",
        "colab": {
          "base_uri": "https://localhost:8080/"
        }
      },
      "execution_count": null,
      "outputs": [
        {
          "output_type": "stream",
          "name": "stdout",
          "text": [
            "4489\n"
          ]
        }
      ]
    },
    {
      "cell_type": "code",
      "source": [
        "#find the square root of 6798\n",
        "\n",
        "square_root = 6798 ** 0.5\n",
        "print(square_root)"
      ],
      "metadata": {
        "id": "w_uyjJDLNDPS",
        "outputId": "d3a94f5c-f98b-4667-b90e-9ac329942678",
        "colab": {
          "base_uri": "https://localhost:8080/"
        }
      },
      "execution_count": null,
      "outputs": [
        {
          "output_type": "stream",
          "name": "stdout",
          "text": [
            "82.44998483929515\n"
          ]
        }
      ]
    },
    {
      "cell_type": "code",
      "source": [
        "#find the value of 68 exponent(raise to the power) by 3, and store it in a varibale called 'a'\n",
        "\n",
        "a = 68 ** 3\n",
        "print(a)"
      ],
      "metadata": {
        "id": "Lxr0fSOaNIE7",
        "outputId": "943e9d09-5ad0-43fc-859f-3107fa547f58",
        "colab": {
          "base_uri": "https://localhost:8080/"
        }
      },
      "execution_count": null,
      "outputs": [
        {
          "output_type": "stream",
          "name": "stdout",
          "text": [
            "314432\n"
          ]
        }
      ]
    },
    {
      "cell_type": "code",
      "source": [
        "#find the square root of 'a'\n",
        "\n",
        "a ** 0.5"
      ],
      "metadata": {
        "id": "HJ8mB70ONVfb",
        "outputId": "a96d0c00-7efa-4f7b-f214-a30d64f377f1",
        "colab": {
          "base_uri": "https://localhost:8080/"
        }
      },
      "execution_count": null,
      "outputs": [
        {
          "output_type": "execute_result",
          "data": {
            "text/plain": [
              "560.7423650840018"
            ]
          },
          "metadata": {},
          "execution_count": 11
        }
      ]
    },
    {
      "cell_type": "markdown",
      "metadata": {
        "id": "nCZng1oYybKB"
      },
      "source": [
        "## Strings"
      ]
    },
    {
      "cell_type": "markdown",
      "metadata": {
        "id": "xWRtkL57ybKC"
      },
      "source": [
        "Given the string 'hello' give an index command that returns 'e'. Enter your code in the cell below:"
      ]
    },
    {
      "cell_type": "code",
      "execution_count": null,
      "metadata": {
        "id": "ptU8JcsMybKD",
        "outputId": "a1fdadc4-3bae-4970-8818-dc6c518d2680",
        "colab": {
          "base_uri": "https://localhost:8080/",
          "height": 35
        }
      },
      "outputs": [
        {
          "output_type": "execute_result",
          "data": {
            "text/plain": [
              "'e'"
            ],
            "application/vnd.google.colaboratory.intrinsic+json": {
              "type": "string"
            }
          },
          "metadata": {},
          "execution_count": 12
        }
      ],
      "source": [
        "s = 'hello'\n",
        "# Print out 'e' using indexing\n",
        "\n",
        "s= 'hello'\n",
        "s[1]"
      ]
    },
    {
      "cell_type": "markdown",
      "metadata": {
        "id": "v9SP7L5CybKF"
      },
      "source": [
        "Reverse the string 'hello' using slicing:"
      ]
    },
    {
      "cell_type": "code",
      "execution_count": null,
      "metadata": {
        "id": "vvtqx-2rybKG",
        "outputId": "1c1a084e-4772-435e-f42f-ffc7b3f1c812",
        "colab": {
          "base_uri": "https://localhost:8080/",
          "height": 35
        }
      },
      "outputs": [
        {
          "output_type": "execute_result",
          "data": {
            "text/plain": [
              "'olleh'"
            ],
            "application/vnd.google.colaboratory.intrinsic+json": {
              "type": "string"
            }
          },
          "metadata": {},
          "execution_count": 28
        }
      ],
      "source": [
        "s ='hello'\n",
        "# Reverse the string using slicing\n",
        "s= 'hello'\n",
        "s[::-1]"
      ]
    },
    {
      "cell_type": "markdown",
      "metadata": {
        "id": "CLZTXpYIybKI"
      },
      "source": [
        "Given the string hello, give two methods of producing the letter 'o' using indexing."
      ]
    },
    {
      "cell_type": "code",
      "execution_count": null,
      "metadata": {
        "id": "F4lKCRtHybKJ",
        "outputId": "11b7ff24-37d8-4865-c11f-57f6fca53d5a",
        "colab": {
          "base_uri": "https://localhost:8080/",
          "height": 35
        }
      },
      "outputs": [
        {
          "output_type": "execute_result",
          "data": {
            "text/plain": [
              "'o'"
            ],
            "application/vnd.google.colaboratory.intrinsic+json": {
              "type": "string"
            }
          },
          "metadata": {},
          "execution_count": 32
        }
      ],
      "source": [
        "s ='hello'\n",
        "# Print out the 'o'\n",
        "\n",
        "# Method 1:\n",
        "\n",
        "s[4]\n"
      ]
    },
    {
      "cell_type": "code",
      "execution_count": null,
      "metadata": {
        "id": "wpHzaObWybKL",
        "outputId": "7b2eb624-6fcd-416e-9c49-2c57e0a2835b",
        "colab": {
          "base_uri": "https://localhost:8080/",
          "height": 35
        }
      },
      "outputs": [
        {
          "output_type": "execute_result",
          "data": {
            "text/plain": [
              "'o'"
            ],
            "application/vnd.google.colaboratory.intrinsic+json": {
              "type": "string"
            }
          },
          "metadata": {},
          "execution_count": 33
        }
      ],
      "source": [
        "# Method 2:\n",
        "s[-1]"
      ]
    },
    {
      "cell_type": "code",
      "execution_count": null,
      "metadata": {
        "id": "f63il5vpybKM"
      },
      "outputs": [],
      "source": []
    },
    {
      "cell_type": "markdown",
      "metadata": {
        "id": "l43oeCRlybKN"
      },
      "source": [
        "## Lists"
      ]
    },
    {
      "cell_type": "markdown",
      "metadata": {
        "id": "U4JlugAqybKO"
      },
      "source": [
        "Build this list [0,0,0] two separate ways."
      ]
    },
    {
      "cell_type": "code",
      "execution_count": null,
      "metadata": {
        "id": "2rw1qnq2ybKP",
        "outputId": "f74dc2db-d2a0-490f-e755-1c94dd567c79",
        "colab": {
          "base_uri": "https://localhost:8080/"
        }
      },
      "outputs": [
        {
          "output_type": "execute_result",
          "data": {
            "text/plain": [
              "[0, 0, 0]"
            ]
          },
          "metadata": {},
          "execution_count": 2
        }
      ],
      "source": [
        "# Method 1:\n",
        "\n",
        "list = [0,0,0]\n",
        "list\n"
      ]
    },
    {
      "cell_type": "code",
      "execution_count": null,
      "metadata": {
        "id": "N4RTRT2pybKQ",
        "outputId": "255f3d38-cabf-4102-c4d7-812a85c288bb"
      },
      "outputs": [
        {
          "data": {
            "text/plain": [
              "[0, 0, 0]"
            ]
          },
          "execution_count": 17,
          "metadata": {},
          "output_type": "execute_result"
        }
      ],
      "source": [
        "# Method 2:\n"
      ]
    },
    {
      "cell_type": "code",
      "source": [
        "#method 3:\n"
      ],
      "metadata": {
        "colab": {
          "base_uri": "https://localhost:8080/"
        },
        "id": "sgUqm6oaOv_x",
        "outputId": "8cb879af-32ae-44bc-85fb-92dae818cb19"
      },
      "execution_count": null,
      "outputs": [
        {
          "output_type": "execute_result",
          "data": {
            "text/plain": [
              "[0, 0, 0]"
            ]
          },
          "metadata": {},
          "execution_count": 6
        }
      ]
    },
    {
      "cell_type": "markdown",
      "metadata": {
        "id": "W6BbZaOqybKS"
      },
      "source": [
        "Reassign 'hello' in this nested list below to say 'goodbye' instead:"
      ]
    },
    {
      "cell_type": "code",
      "execution_count": null,
      "metadata": {
        "id": "LYT8sb9TybKU",
        "outputId": "785c79a3-2ecd-4bb3-9b7f-43998aa331c5",
        "colab": {
          "base_uri": "https://localhost:8080/"
        }
      },
      "outputs": [
        {
          "output_type": "execute_result",
          "data": {
            "text/plain": [
              "[1, 2, [3, 4, 'goodbye']]"
            ]
          },
          "metadata": {},
          "execution_count": 6
        }
      ],
      "source": [
        "list3 = [1,2,[3,4,'hello']]\n",
        "\n",
        "#write code below\n",
        "\n",
        "list3 =[1,2,[3,4,'hello']]\n",
        "list3[-1][2]='goodbye'\n",
        "list3\n"
      ]
    },
    {
      "cell_type": "markdown",
      "metadata": {
        "id": "Vru6OJpjybKX"
      },
      "source": [
        "Sort the list below:"
      ]
    },
    {
      "cell_type": "code",
      "execution_count": null,
      "metadata": {
        "id": "vdPznQoAybKY",
        "outputId": "8d8f6bd6-f557-4505-94a5-6397c27e5227",
        "colab": {
          "base_uri": "https://localhost:8080/"
        }
      },
      "outputs": [
        {
          "output_type": "execute_result",
          "data": {
            "text/plain": [
              "[1, 2, 3, 4, 5, 6, 7, 8, 9, 10, 11, 12, 13, 14, 15]"
            ]
          },
          "metadata": {},
          "execution_count": 12
        }
      ],
      "source": [
        "list4 = [5,12,3,4,6,1,8,11,2,15,10,7,13,9,14]\n",
        "\n",
        "list4.sort()\n",
        "\n",
        "list4\n",
        "\n",
        "\n",
        "#writ"
      ]
    },
    {
      "cell_type": "markdown",
      "metadata": {
        "id": "y7ilCmkoybKZ"
      },
      "source": [
        "## Dictionaries"
      ]
    },
    {
      "cell_type": "markdown",
      "metadata": {
        "id": "S2b_A0-EybKa"
      },
      "source": [
        "Using keys and indexing, grab the 'hello' from the following dictionaries:"
      ]
    },
    {
      "cell_type": "code",
      "execution_count": null,
      "metadata": {
        "id": "I-dtFU3SybKb",
        "outputId": "99ed750a-4047-4ef7-a0de-854e5409c882",
        "colab": {
          "base_uri": "https://localhost:8080/",
          "height": 35
        }
      },
      "outputs": [
        {
          "output_type": "execute_result",
          "data": {
            "text/plain": [
              "'hello'"
            ],
            "application/vnd.google.colaboratory.intrinsic+json": {
              "type": "string"
            }
          },
          "metadata": {},
          "execution_count": 19
        }
      ],
      "source": [
        "d = {'simple_key':'hello'}\n",
        "# Grab 'hello'\n",
        "\n",
        "d['simple_key']\n"
      ]
    },
    {
      "cell_type": "code",
      "execution_count": null,
      "metadata": {
        "id": "51ionkQCybKc",
        "outputId": "90de2923-cb39-403a-f1b4-0698c995e003",
        "colab": {
          "base_uri": "https://localhost:8080/",
          "height": 35
        }
      },
      "outputs": [
        {
          "output_type": "execute_result",
          "data": {
            "text/plain": [
              "'hello'"
            ],
            "application/vnd.google.colaboratory.intrinsic+json": {
              "type": "string"
            }
          },
          "metadata": {},
          "execution_count": 4
        }
      ],
      "source": [
        "d = {'k1':{'k2':'hello'}}\n",
        "# Grab 'hello'\n",
        "\n",
        "d['k1']['k2']\n"
      ]
    },
    {
      "cell_type": "code",
      "execution_count": null,
      "metadata": {
        "id": "DVWsvBQSybKe",
        "outputId": "4e26affe-e6ca-43aa-9426-73683030c62e",
        "colab": {
          "base_uri": "https://localhost:8080/"
        }
      },
      "outputs": [
        {
          "output_type": "execute_result",
          "data": {
            "text/plain": [
              "['hello']"
            ]
          },
          "metadata": {},
          "execution_count": 17
        }
      ],
      "source": [
        "# Getting a little tricker\n",
        "d = {'k1':[{'nest_key':['this is deep',['hello']]}]}\n",
        "\n",
        "#Grab hello\n",
        "d['k1'][0]['nest_key'][1]"
      ]
    },
    {
      "cell_type": "code",
      "execution_count": null,
      "metadata": {
        "id": "eMmn3IwnybKf",
        "outputId": "6697ba83-996a-4bf1-8fe7-7c708af41087",
        "colab": {
          "base_uri": "https://localhost:8080/"
        }
      },
      "outputs": [
        {
          "output_type": "execute_result",
          "data": {
            "text/plain": [
              "['hello']"
            ]
          },
          "metadata": {},
          "execution_count": 23
        }
      ],
      "source": [
        "# This will be alittle bit hard!\n",
        "d = {'k1':[1,2,{'k2':['this is tricky',\n",
        "               {'tough':[1,2,['hello']]}]}]\n",
        "    }\n",
        "\n",
        "#Grab hello\n",
        "d['k1'][2]['k2'][1]['tough'][2]"
      ]
    },
    {
      "cell_type": "markdown",
      "source": [],
      "metadata": {
        "id": "56t0aIOEgubx"
      }
    },
    {
      "cell_type": "markdown",
      "metadata": {
        "id": "CsoGj4PkybKh"
      },
      "source": [
        "Can you sort a dictionary? Why or why not?<br><br> no you cannot sort a dictionary because dictionaries are data sets that come in pairs and they are not ordered"
      ]
    },
    {
      "cell_type": "markdown",
      "metadata": {
        "id": "W86HUWHxybKi"
      },
      "source": [
        "## Tuples"
      ]
    },
    {
      "cell_type": "markdown",
      "metadata": {
        "id": "HuTgR7tbybKj"
      },
      "source": [
        "What is the major difference between tuples and lists?<br><br> the major difference between a list and a tuple is that list are mutable while tuples are not mutable"
      ]
    },
    {
      "cell_type": "markdown",
      "metadata": {
        "id": "-Wa_IrxsybKk"
      },
      "source": []
    },
    {
      "cell_type": "markdown",
      "metadata": {
        "id": "ah09VsqnybKk"
      },
      "source": [
        "How do you create a tuple?<br><br> by using the round bracket"
      ]
    },
    {
      "cell_type": "code",
      "execution_count": null,
      "metadata": {
        "id": "IF7KoonWybKl"
      },
      "outputs": [],
      "source": []
    },
    {
      "cell_type": "markdown",
      "metadata": {
        "id": "a_botkJKybKm"
      },
      "source": [
        "## Sets "
      ]
    },
    {
      "cell_type": "markdown",
      "source": [],
      "metadata": {
        "id": "wYqNNRIA-7gw"
      }
    },
    {
      "cell_type": "markdown",
      "metadata": {
        "id": "LpzuwRG1ybKo"
      },
      "source": [
        "**What** is unique about a set?<br><br> set is an unorder sequence and query of a set returns only the distinct/unique elements in the set"
      ]
    },
    {
      "cell_type": "markdown",
      "metadata": {
        "id": "2Wn0dUpiybKp"
      },
      "source": [
        "Use a set to find the unique values of the list below:"
      ]
    },
    {
      "cell_type": "code",
      "execution_count": null,
      "metadata": {
        "id": "B2WB4I4QybKq",
        "outputId": "6dd73ce6-807d-4ba5-b77e-cf552fd606b3",
        "colab": {
          "base_uri": "https://localhost:8080/"
        }
      },
      "outputs": [
        {
          "output_type": "execute_result",
          "data": {
            "text/plain": [
              "{1, 2, 3, 4, 11, 22, 33}"
            ]
          },
          "metadata": {},
          "execution_count": 2
        }
      ],
      "source": [
        "list5 = [1,2,2,33,4,4,11,22,3,3,2]\n",
        "\n",
        "\n",
        "list5 = {1,2,2,33,4,4,11,22,3,3,2}\n",
        "list5"
      ]
    },
    {
      "cell_type": "markdown",
      "metadata": {
        "id": "YhAFJhFJybK5"
      },
      "source": [
        "## Great Job on your first assessment! "
      ]
    }
  ],
  "metadata": {
    "anaconda-cloud": {},
    "kernelspec": {
      "display_name": "Python 3",
      "language": "python",
      "name": "python3"
    },
    "language_info": {
      "codemirror_mode": {
        "name": "ipython",
        "version": 3
      },
      "file_extension": ".py",
      "mimetype": "text/x-python",
      "name": "python",
      "nbconvert_exporter": "python",
      "pygments_lexer": "ipython3",
      "version": "3.7.6"
    },
    "colab": {
      "provenance": [],
      "collapsed_sections": [
        "6Xa7bmVmBRvg"
      ],
      "include_colab_link": true
    }
  },
  "nbformat": 4,
  "nbformat_minor": 0
}